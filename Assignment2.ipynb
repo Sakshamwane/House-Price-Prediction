{
  "nbformat": 4,
  "nbformat_minor": 0,
  "metadata": {
    "colab": {
      "provenance": []
    },
    "kernelspec": {
      "name": "python3",
      "display_name": "Python 3"
    },
    "language_info": {
      "name": "python"
    }
  },
  "cells": [
    {
      "cell_type": "markdown",
      "source": [
        "## Importing the required libraries"
      ],
      "metadata": {
        "id": "PFzx1XAzV5uL"
      }
    },
    {
      "cell_type": "code",
      "execution_count": null,
      "metadata": {
        "id": "m5g02SATVgT1"
      },
      "outputs": [],
      "source": [
        "import numpy as np \n",
        "import pandas as pd"
      ]
    },
    {
      "cell_type": "markdown",
      "source": [
        "## Loading the Data set"
      ],
      "metadata": {
        "id": "cPD-oSjxWMjq"
      }
    },
    {
      "cell_type": "code",
      "source": [
        "df_train = pd.read_csv('housing_train (1).csv')"
      ],
      "metadata": {
        "id": "c0v51Qt0WLtD"
      },
      "execution_count": null,
      "outputs": []
    },
    {
      "cell_type": "markdown",
      "source": [
        "Deleting columns with missing data"
      ],
      "metadata": {
        "id": "c3Id3GO5XFFT"
      }
    },
    {
      "cell_type": "code",
      "source": [
        "df_train.drop(['PoolQC','MiscFeature','Alley','Fence','FireplaceQu','LotFrontage'], axis = 1,inplace=True)"
      ],
      "metadata": {
        "id": "yGTQpjsfW6Gq"
      },
      "execution_count": null,
      "outputs": []
    },
    {
      "cell_type": "markdown",
      "source": [
        "Drop rows with missing data"
      ],
      "metadata": {
        "id": "2VZdZkRYXMgo"
      }
    },
    {
      "cell_type": "code",
      "source": [
        "df_train.dropna(inplace=True)"
      ],
      "metadata": {
        "id": "9vjXQ77AXEUP"
      },
      "execution_count": null,
      "outputs": []
    },
    {
      "cell_type": "markdown",
      "source": [
        "Splitting train and test data"
      ],
      "metadata": {
        "id": "6M8juIVWXZgb"
      }
    },
    {
      "cell_type": "code",
      "source": [
        "from sklearn.model_selection import train_test_split\n",
        "df_train = pd.get_dummies(df_train)"
      ],
      "metadata": {
        "id": "SxRkaRP6XLj-"
      },
      "execution_count": null,
      "outputs": []
    },
    {
      "cell_type": "code",
      "source": [
        "X_train, X_test, y_train, y_test = train_test_split(df_train.loc[:, df_train.columns != 'SalePrice'], df_train['SalePrice'], test_size=0.25, random_state=42)\n"
      ],
      "metadata": {
        "id": "l5LhSS2UXY1p"
      },
      "execution_count": null,
      "outputs": []
    },
    {
      "cell_type": "markdown",
      "source": [
        "## PCA(Principal component analysis)"
      ],
      "metadata": {
        "id": "m-zSUNHrXlVF"
      }
    },
    {
      "cell_type": "code",
      "source": [
        "from sklearn.decomposition import PCA\n",
        "\n",
        "def pca_dec(data, n):\n",
        "  pca = PCA(n)\n",
        "  X_dec = pca.fit_transform(data)\n",
        "  return X_dec, pca"
      ],
      "metadata": {
        "id": "dlQVnhwaXhKD"
      },
      "execution_count": null,
      "outputs": []
    },
    {
      "cell_type": "markdown",
      "source": [
        "Decomposing the train set"
      ],
      "metadata": {
        "id": "JPbc8mDRXzN5"
      }
    },
    {
      "cell_type": "code",
      "source": [
        "pca_train_results, pca_train = pca_dec(X_train, 10)"
      ],
      "metadata": {
        "id": "WWuc6RGOXyFv"
      },
      "execution_count": null,
      "outputs": []
    },
    {
      "cell_type": "markdown",
      "source": [
        "Decomposing the test set"
      ],
      "metadata": {
        "id": "og5raNiiX5LQ"
      }
    },
    {
      "cell_type": "code",
      "source": [
        "pca_test_results, pca_test = pca_dec(X_test, 10)"
      ],
      "metadata": {
        "id": "2I5cXskiX3Wr"
      },
      "execution_count": null,
      "outputs": []
    },
    {
      "cell_type": "markdown",
      "source": [
        "Creating a table with the explained variance ratio"
      ],
      "metadata": {
        "id": "-ozZW1CGYAEQ"
      }
    },
    {
      "cell_type": "code",
      "source": [
        "names_pcas = [f\"PCA Component {i}\" for i in range(1, 11, 1)]\n",
        "scree = pd.DataFrame(list(zip(names_pcas, pca_train.explained_variance_ratio_)), columns=[\"Component\", \"Explained Variance Ratio\"])\n",
        "print(scree)"
      ],
      "metadata": {
        "colab": {
          "base_uri": "https://localhost:8080/"
        },
        "id": "KjDtwBJ2X9Nu",
        "outputId": "9b6795cc-ed48-4169-e66b-5d4fdd36f503"
      },
      "execution_count": null,
      "outputs": [
        {
          "output_type": "stream",
          "name": "stdout",
          "text": [
            "          Component  Explained Variance Ratio\n",
            "0   PCA Component 1                  0.985988\n",
            "1   PCA Component 2                  0.004436\n",
            "2   PCA Component 3                  0.003187\n",
            "3   PCA Component 4                  0.002591\n",
            "4   PCA Component 5                  0.001587\n",
            "5   PCA Component 6                  0.000903\n",
            "6   PCA Component 7                  0.000401\n",
            "7   PCA Component 8                  0.000240\n",
            "8   PCA Component 9                  0.000189\n",
            "9  PCA Component 10                  0.000181\n"
          ]
        }
      ]
    },
    {
      "cell_type": "markdown",
      "source": [
        "Sorting the values of the first principal component by how large each one is"
      ],
      "metadata": {
        "id": "kagcKjroYJFO"
      }
    },
    {
      "cell_type": "code",
      "source": [
        "df = pd.DataFrame({'PCA':pca_train.components_[0], 'Variable Names':list(X_train.columns)})\n",
        "df = df.sort_values('PCA', ascending=False)"
      ],
      "metadata": {
        "id": "Agr5kS3_YCJN"
      },
      "execution_count": null,
      "outputs": []
    },
    {
      "cell_type": "markdown",
      "source": [
        "Sorting the absolute values of the first principal component by magnitude"
      ],
      "metadata": {
        "id": "FcXWgtpcYQlL"
      }
    },
    {
      "cell_type": "code",
      "source": [
        "df2 = pd.DataFrame(df)\n",
        "df2['PCA']=df2['PCA'].apply(np.absolute)\n",
        "df2 = df2.sort_values('PCA', ascending=False)\n",
        "#print(df2['Variable Names'][0:11])"
      ],
      "metadata": {
        "id": "vvOdujMuYN21"
      },
      "execution_count": null,
      "outputs": []
    },
    {
      "cell_type": "code",
      "source": [
        "df.head()"
      ],
      "metadata": {
        "colab": {
          "base_uri": "https://localhost:8080/",
          "height": 206
        },
        "id": "QI_MgIFfYTv3",
        "outputId": "ae8eae28-8a87-4d58-b661-d8f6642feaea"
      },
      "execution_count": null,
      "outputs": [
        {
          "output_type": "execute_result",
          "data": {
            "text/plain": [
              "         PCA Variable Names\n",
              "2   0.999730        LotArea\n",
              "15  0.013377      GrLivArea\n",
              "12  0.011297       1stFlrSF\n",
              "11  0.010933    TotalBsmtSF\n",
              "8   0.009208     BsmtFinSF1"
            ],
            "text/html": [
              "\n",
              "  <div id=\"df-850bca33-482d-4060-becf-0ee49e1cb36a\">\n",
              "    <div class=\"colab-df-container\">\n",
              "      <div>\n",
              "<style scoped>\n",
              "    .dataframe tbody tr th:only-of-type {\n",
              "        vertical-align: middle;\n",
              "    }\n",
              "\n",
              "    .dataframe tbody tr th {\n",
              "        vertical-align: top;\n",
              "    }\n",
              "\n",
              "    .dataframe thead th {\n",
              "        text-align: right;\n",
              "    }\n",
              "</style>\n",
              "<table border=\"1\" class=\"dataframe\">\n",
              "  <thead>\n",
              "    <tr style=\"text-align: right;\">\n",
              "      <th></th>\n",
              "      <th>PCA</th>\n",
              "      <th>Variable Names</th>\n",
              "    </tr>\n",
              "  </thead>\n",
              "  <tbody>\n",
              "    <tr>\n",
              "      <th>2</th>\n",
              "      <td>0.999730</td>\n",
              "      <td>LotArea</td>\n",
              "    </tr>\n",
              "    <tr>\n",
              "      <th>15</th>\n",
              "      <td>0.013377</td>\n",
              "      <td>GrLivArea</td>\n",
              "    </tr>\n",
              "    <tr>\n",
              "      <th>12</th>\n",
              "      <td>0.011297</td>\n",
              "      <td>1stFlrSF</td>\n",
              "    </tr>\n",
              "    <tr>\n",
              "      <th>11</th>\n",
              "      <td>0.010933</td>\n",
              "      <td>TotalBsmtSF</td>\n",
              "    </tr>\n",
              "    <tr>\n",
              "      <th>8</th>\n",
              "      <td>0.009208</td>\n",
              "      <td>BsmtFinSF1</td>\n",
              "    </tr>\n",
              "  </tbody>\n",
              "</table>\n",
              "</div>\n",
              "      <button class=\"colab-df-convert\" onclick=\"convertToInteractive('df-850bca33-482d-4060-becf-0ee49e1cb36a')\"\n",
              "              title=\"Convert this dataframe to an interactive table.\"\n",
              "              style=\"display:none;\">\n",
              "        \n",
              "  <svg xmlns=\"http://www.w3.org/2000/svg\" height=\"24px\"viewBox=\"0 0 24 24\"\n",
              "       width=\"24px\">\n",
              "    <path d=\"M0 0h24v24H0V0z\" fill=\"none\"/>\n",
              "    <path d=\"M18.56 5.44l.94 2.06.94-2.06 2.06-.94-2.06-.94-.94-2.06-.94 2.06-2.06.94zm-11 1L8.5 8.5l.94-2.06 2.06-.94-2.06-.94L8.5 2.5l-.94 2.06-2.06.94zm10 10l.94 2.06.94-2.06 2.06-.94-2.06-.94-.94-2.06-.94 2.06-2.06.94z\"/><path d=\"M17.41 7.96l-1.37-1.37c-.4-.4-.92-.59-1.43-.59-.52 0-1.04.2-1.43.59L10.3 9.45l-7.72 7.72c-.78.78-.78 2.05 0 2.83L4 21.41c.39.39.9.59 1.41.59.51 0 1.02-.2 1.41-.59l7.78-7.78 2.81-2.81c.8-.78.8-2.07 0-2.86zM5.41 20L4 18.59l7.72-7.72 1.47 1.35L5.41 20z\"/>\n",
              "  </svg>\n",
              "      </button>\n",
              "      \n",
              "  <style>\n",
              "    .colab-df-container {\n",
              "      display:flex;\n",
              "      flex-wrap:wrap;\n",
              "      gap: 12px;\n",
              "    }\n",
              "\n",
              "    .colab-df-convert {\n",
              "      background-color: #E8F0FE;\n",
              "      border: none;\n",
              "      border-radius: 50%;\n",
              "      cursor: pointer;\n",
              "      display: none;\n",
              "      fill: #1967D2;\n",
              "      height: 32px;\n",
              "      padding: 0 0 0 0;\n",
              "      width: 32px;\n",
              "    }\n",
              "\n",
              "    .colab-df-convert:hover {\n",
              "      background-color: #E2EBFA;\n",
              "      box-shadow: 0px 1px 2px rgba(60, 64, 67, 0.3), 0px 1px 3px 1px rgba(60, 64, 67, 0.15);\n",
              "      fill: #174EA6;\n",
              "    }\n",
              "\n",
              "    [theme=dark] .colab-df-convert {\n",
              "      background-color: #3B4455;\n",
              "      fill: #D2E3FC;\n",
              "    }\n",
              "\n",
              "    [theme=dark] .colab-df-convert:hover {\n",
              "      background-color: #434B5C;\n",
              "      box-shadow: 0px 1px 3px 1px rgba(0, 0, 0, 0.15);\n",
              "      filter: drop-shadow(0px 1px 2px rgba(0, 0, 0, 0.3));\n",
              "      fill: #FFFFFF;\n",
              "    }\n",
              "  </style>\n",
              "\n",
              "      <script>\n",
              "        const buttonEl =\n",
              "          document.querySelector('#df-850bca33-482d-4060-becf-0ee49e1cb36a button.colab-df-convert');\n",
              "        buttonEl.style.display =\n",
              "          google.colab.kernel.accessAllowed ? 'block' : 'none';\n",
              "\n",
              "        async function convertToInteractive(key) {\n",
              "          const element = document.querySelector('#df-850bca33-482d-4060-becf-0ee49e1cb36a');\n",
              "          const dataTable =\n",
              "            await google.colab.kernel.invokeFunction('convertToInteractive',\n",
              "                                                     [key], {});\n",
              "          if (!dataTable) return;\n",
              "\n",
              "          const docLinkHtml = 'Like what you see? Visit the ' +\n",
              "            '<a target=\"_blank\" href=https://colab.research.google.com/notebooks/data_table.ipynb>data table notebook</a>'\n",
              "            + ' to learn more about interactive tables.';\n",
              "          element.innerHTML = '';\n",
              "          dataTable['output_type'] = 'display_data';\n",
              "          await google.colab.output.renderOutput(dataTable, element);\n",
              "          const docLink = document.createElement('div');\n",
              "          docLink.innerHTML = docLinkHtml;\n",
              "          element.appendChild(docLink);\n",
              "        }\n",
              "      </script>\n",
              "    </div>\n",
              "  </div>\n",
              "  "
            ]
          },
          "metadata": {},
          "execution_count": 14
        }
      ]
    },
    {
      "cell_type": "markdown",
      "source": [
        "Creating Price Categories for TSNE and PCA Visualization"
      ],
      "metadata": {
        "id": "ESsjn_wOYerK"
      }
    },
    {
      "cell_type": "code",
      "source": [
        "def what_bracket(sale_price):\n",
        "  if sale_price <=100000:\n",
        "    return \"Tier 1\"\n",
        "  elif sale_price <=200000:\n",
        "    return \"Tier 2\"\n",
        "  elif sale_price <=300000:\n",
        "    return \"Tier 3\"\n",
        "  elif sale_price <= 500000:\n",
        "    return \"Tier 4\"\n",
        "  else:\n",
        "    return \"Tier 5\"\n",
        "\n",
        "y_tiers = y_train.apply(what_bracket)"
      ],
      "metadata": {
        "id": "hpXauvNeYVoT"
      },
      "execution_count": null,
      "outputs": []
    },
    {
      "cell_type": "markdown",
      "source": [
        "Plotting the first two PCA components, as well as the price tier of the house to see if PCA helps us distinguish price-points"
      ],
      "metadata": {
        "id": "mwDefasnYvYF"
      }
    },
    {
      "cell_type": "code",
      "source": [
        "import seaborn as sns\n",
        "import matplotlib.pyplot as plt\n",
        "\n",
        "first_comps = pca_train_results[:,0] #Taking the first PCA component for each\n",
        "                                    #decomposed house's data\n",
        "\n",
        "second_comps = pca_train_results[:,1]\n",
        "\n",
        "plt.figure(figsize=(16,10))\n",
        "sns.scatterplot(\n",
        "    x=first_comps, y=second_comps,\n",
        "    hue=y_tiers,\n",
        "    palette=sns.color_palette(\"hls\", 5),\n",
        "    legend=\"full\",\n",
        "    alpha=0.3\n",
        ")\n",
        "\n",
        "plt.title(\"Houses Explained by their First Two PCA Elements\")\n",
        "plt.xlabel(\"PCA Component 1\")\n",
        "plt.ylabel(\"PCA Component 2\")"
      ],
      "metadata": {
        "colab": {
          "base_uri": "https://localhost:8080/",
          "height": 480
        },
        "id": "eTJUQZW0YhCE",
        "outputId": "c77fd1de-ff63-4a56-b0ad-9dd2afacb4c8"
      },
      "execution_count": null,
      "outputs": [
        {
          "output_type": "execute_result",
          "data": {
            "text/plain": [
              "Text(0, 0.5, 'PCA Component 2')"
            ]
          },
          "metadata": {},
          "execution_count": 17
        },
        {
          "output_type": "display_data",
          "data": {
            "text/plain": [
              "<Figure size 1152x720 with 1 Axes>"
            ],
            "image/png": "[encoded data removed]"
          },
          "metadata": {
            "needs_background": "light"
          }
        }
      ]
    },
    {
      "cell_type": "markdown",
      "source": [
        "## Applying linear regression"
      ],
      "metadata": {
        "id": "JgVADE5cZsF-"
      }
    },
    {
      "cell_type": "code",
      "source": [
        "from sklearn.linear_model import LinearRegression"
      ],
      "metadata": {
        "id": "9hv47fPiY6zq"
      },
      "execution_count": null,
      "outputs": []
    },
    {
      "cell_type": "code",
      "source": [
        "lin = LinearRegression()"
      ],
      "metadata": {
        "id": "2f5DHV5IaBlf"
      },
      "execution_count": null,
      "outputs": []
    },
    {
      "cell_type": "code",
      "source": [
        "lin = lin.fit(X_train, y_train)"
      ],
      "metadata": {
        "id": "DVfZVfpnaDA1"
      },
      "execution_count": null,
      "outputs": []
    },
    {
      "cell_type": "code",
      "source": [
        "y_pred = lin.predict(X_test)"
      ],
      "metadata": {
        "id": "qcfRnUc9aEpU"
      },
      "execution_count": null,
      "outputs": []
    },
    {
      "cell_type": "code",
      "source": [
        "lin.intercept_"
      ],
      "metadata": {
        "colab": {
          "base_uri": "https://localhost:8080/"
        },
        "id": "tuWgHwFJaGMN",
        "outputId": "aa8a212c-6a2e-4d7a-cbc4-76d42bd095cb"
      },
      "execution_count": null,
      "outputs": [
        {
          "output_type": "execute_result",
          "data": {
            "text/plain": [
              "-1007292.2839460066"
            ]
          },
          "metadata": {},
          "execution_count": 23
        }
      ]
    },
    {
      "cell_type": "code",
      "source": [
        "y_test"
      ],
      "metadata": {
        "colab": {
          "base_uri": "https://localhost:8080/"
        },
        "id": "ZoGJW4b1aIUO",
        "outputId": "a8802f43-0d40-454b-ad50-2613bf38c061"
      },
      "execution_count": null,
      "outputs": [
        {
          "output_type": "execute_result",
          "data": {
            "text/plain": [
              "832     237000\n",
              "965     178900\n",
              "969     140000\n",
              "1411    140000\n",
              "284     179200\n",
              "         ...  \n",
              "374     219500\n",
              "337     214000\n",
              "1233    142000\n",
              "550     140000\n",
              "1307    138000\n",
              "Name: SalePrice, Length: 335, dtype: int64"
            ]
          },
          "metadata": {},
          "execution_count": 24
        }
      ]
    },
    {
      "cell_type": "code",
      "source": [
        "print(y_pred)"
      ],
      "metadata": {
        "colab": {
          "base_uri": "https://localhost:8080/"
        },
        "id": "bIsU725eaKdl",
        "outputId": "57541e68-9cb4-45ae-eb76-b86f4aef3c03"
      },
      "execution_count": null,
      "outputs": [
        {
          "output_type": "stream",
          "name": "stdout",
          "text": [
            "[231396.99564694 173123.8135358  159475.95801052 158269.88750329\n",
            " 185181.86894546 131886.56517691 182661.60626317 223114.64212528\n",
            " 268292.4326316  132563.59741332 175878.22028517 292614.5020237\n",
            " 211996.6281008  129666.05458313 145613.39106197 193581.97427298\n",
            " 105053.1396481  145055.79921158 233707.84037619  94362.08780187\n",
            " 209842.61365707 186832.39142692 173628.43328674 238489.20159946\n",
            " 263710.11389832 122076.59869995 175630.06066032 157426.84403913\n",
            " 214646.69074883 154634.03080284 235182.82659983 178796.17261943\n",
            " 276087.47318688 166846.86998127 312919.81176424 190095.76546528\n",
            " 204950.20633236  50996.70286591 147154.38176365  82043.46562099\n",
            " 183436.10531759 267146.38371702 246177.35331872 181035.86901222\n",
            " 178613.89371581 241192.75622144 107807.81717976 163666.39304075\n",
            "  44344.96403814 135826.53361719 139781.81756608 267174.1620719\n",
            " 155493.13047312 213915.53683604 185969.28301868 152385.68889006\n",
            " 174053.13334466 299750.77019948 135883.01199696 232133.66538885\n",
            " 190790.93965476 155323.60053937 148818.83796704 276600.79641031\n",
            " 145986.56795736 258685.22922034 258468.64238869 247005.65648634\n",
            " 191839.50362495 138371.71330434 299293.56596559  85545.40632952\n",
            " 134529.69567532 287224.5078447   15074.94817435  84729.32876824\n",
            " 314746.21602408 184352.23592176 122650.5516391   82932.87622682\n",
            "  92545.91873066 235841.82122652 164190.65658677 174488.29380884\n",
            " 185444.93378401 208649.19846674 189517.83936337 181426.02174281\n",
            " 124979.47192047 108355.29184991 291805.69554945 108023.47277623\n",
            " 292922.83833221 211971.22198104 172263.33737234 110387.76597926\n",
            " 298747.41999717 259393.54197103 194562.66925987 168482.44614115\n",
            " 196908.79407039  61662.98561202 145004.18440638 139001.74510558\n",
            " 109560.35133517 165809.23494974 130243.27204325 154040.39965659\n",
            " 304743.48550064  98417.78170988 243512.84251913 222740.15798361\n",
            " 314119.62490672 146365.49660603 198517.19854754 362529.77521068\n",
            " 119270.69900631 214100.1194796  314629.26737407 190815.20533072\n",
            " 126500.35547301 180895.63213293 210265.95765771 312400.51697877\n",
            " 114712.43039338 191398.17226628 145617.34844863 160241.32608522\n",
            " 136122.466588   106108.96506    134374.87997585 132481.36420877\n",
            " 121892.56004301 284175.79829358  83615.13274599  95227.15435037\n",
            " 144825.74504433 160446.82188311 278776.45810254 183678.29588935\n",
            " 176133.26724066 105840.37144127 203920.92825904 133188.50185307\n",
            " 151808.06467856  36951.96412341 331899.93406513 180760.87467364\n",
            " 269801.90801607 150895.04557536 229952.12825634 123321.30066156\n",
            " 123097.56740632 212697.71356012 344765.41827415 114723.37709363\n",
            " 158978.73754458 130616.69711831 100379.33430769 118833.35384761\n",
            " 134110.68274129 129221.77328041 108820.5736851  110012.15536295\n",
            " 171794.61189952 240055.02548888 127366.74364323 179874.17582888\n",
            " 176612.35714873 137099.39834808  81254.88347278 142555.10123633\n",
            " 240526.19842273 119505.43637477 152270.6740792   82687.65677505\n",
            " 267986.99613092 149339.65463607 251423.25570184  64879.37238026\n",
            " 148248.63332493 243054.62837666 154649.72998835 109523.95177519\n",
            " 153497.05912496 138034.47850841 182832.4452567  176035.94824191\n",
            " 114394.64508447 235738.17343009 147877.01179825 147174.92938205\n",
            " 122047.01654223  99452.38952188 128502.50385199 396321.6680626\n",
            " 157855.0846002  154030.00169567 210132.88238457 257788.24224024\n",
            " 181858.80768161 143797.08814755 143040.42210729 119639.13273772\n",
            " 182422.29850922 134926.08371949 168119.62921483 172816.42857221\n",
            " 127840.35911586 135037.10917731 230001.05042771 111436.32670067\n",
            " 161399.40288419  95140.74262782 158375.27808928 215302.0826668\n",
            " 237908.66089554 234099.80258286 103223.4198944  188746.37114425\n",
            " 143100.09820017 134704.2100475  125444.36989532 258801.52039509\n",
            " 364203.00951916 121208.93317397 178574.64284674 127767.49418835\n",
            " 166521.83165877 270281.59782528 251725.30193002 182414.77529877\n",
            "  65826.35409186 128626.45234861 230837.30116567 404584.58012283\n",
            " 165087.88102929 333054.70172953 358303.50730365 170529.94682512\n",
            " 255600.94958491 111934.63539035 368312.60377176 253010.67176449\n",
            " 118725.05149417 175056.62369202 278947.94826253 207861.9046357\n",
            " 310147.4251514  114301.16075578 259026.19135241 117534.5341794\n",
            " 163162.86821181 175238.44213257 129893.2034164  132499.50948167\n",
            " 167092.97675394 192689.86027163 249807.25018078  93417.03929765\n",
            " 192256.53734325 105113.78896316 141110.54425772 175899.36420583\n",
            " 151478.41779572 347137.28152083 126427.93682644 272213.5395912\n",
            " 316652.32536282 198836.64837688 121394.13249295 131470.64308657\n",
            " 179420.45320633 321472.33373641 320049.91054928 144825.74548373\n",
            " 129140.04695977 322219.40930857  96358.99717607 146855.54169299\n",
            " 218971.11701428 218998.94002416 208466.04683993 168468.18928509\n",
            " 215953.95770658 138035.62304104 154402.46641018  93741.89137349\n",
            " 156452.91640944 211583.34252795 214741.48794627 344434.94491603\n",
            " 157872.40209568 241348.69168178 164153.68525522 102747.23525144\n",
            " 616601.48200714 157938.19912859 101920.89654651  97823.05952915\n",
            "  89771.43977556  79681.66638673 112981.6667156  233467.10464502\n",
            " 370938.91812106 224260.08798041  92505.47572794  81967.04179915\n",
            " 134031.74487992 192060.63565151 216742.49027185 104386.42072561\n",
            " 202870.14109349 172203.64485795  97610.94106611 270517.85497061\n",
            " 101808.81492478 146155.70431889  70420.9207541  179571.87727059\n",
            " 186453.09682477 153409.48807224 232430.03185733 129283.62394249\n",
            " 181943.57359766 203521.97443794 155640.11486373 130863.41076083\n",
            " 211996.75640487 116552.33349582 202783.79448404 213963.56691109\n",
            " 128825.98465151 139575.3821021  134285.16542552]\n"
          ]
        }
      ]
    },
    {
      "cell_type": "markdown",
      "source": [
        "## Applying mean squared error\n",
        "\n"
      ],
      "metadata": {
        "id": "eZsL0dLEaR_E"
      }
    },
    {
      "cell_type": "code",
      "source": [
        "from sklearn.metrics import mean_squared_error"
      ],
      "metadata": {
        "id": "_zwVJxc_aMhQ"
      },
      "execution_count": null,
      "outputs": []
    },
    {
      "cell_type": "code",
      "source": [
        "r2_score = lin.score(X_train, y_train)"
      ],
      "metadata": {
        "id": "3k9BCphnaUGf"
      },
      "execution_count": null,
      "outputs": []
    },
    {
      "cell_type": "code",
      "source": [
        "print(mean_squared_error(y_test, y_pred))"
      ],
      "metadata": {
        "colab": {
          "base_uri": "https://localhost:8080/"
        },
        "id": "eNYJvw3CaVRd",
        "outputId": "4405830d-c4c8-44b3-ede7-2daf5bb9f0b4"
      },
      "execution_count": null,
      "outputs": [
        {
          "output_type": "stream",
          "name": "stdout",
          "text": [
            "1210502672.712685\n"
          ]
        }
      ]
    },
    {
      "cell_type": "code",
      "source": [
        "print(r2_score)"
      ],
      "metadata": {
        "colab": {
          "base_uri": "https://localhost:8080/"
        },
        "id": "MWzvPIjjaWYn",
        "outputId": "0e86babf-3e60-447a-8b31-1ece7e0d7223"
      },
      "execution_count": null,
      "outputs": [
        {
          "output_type": "stream",
          "name": "stdout",
          "text": [
            "0.9468816127568922\n"
          ]
        }
      ]
    },
    {
      "cell_type": "code",
      "source": [
        "#it counts the predicted value\n",
        "ax1 = sns.distplot(y_test, hist = False, color = 'r', label = 'Actual Values')\n",
        "sns.distplot(y_pred, hist =False, color = 'b', label = 'Predicted values', ax = ax1)"
      ],
      "metadata": {
        "colab": {
          "base_uri": "https://localhost:8080/",
          "height": 399
        },
        "id": "PF5HijaDaXuX",
        "outputId": "2005480a-d4b1-43f6-c6bf-4a450085520b"
      },
      "execution_count": null,
      "outputs": [
        {
          "output_type": "stream",
          "name": "stderr",
          "text": [
            "/usr/local/lib/python3.8/dist-packages/seaborn/distributions.py:2619: FutureWarning: `distplot` is a deprecated function and will be removed in a future version. Please adapt your code to use either `displot` (a figure-level function with similar flexibility) or `kdeplot` (an axes-level function for kernel density plots).\n",
            "  warnings.warn(msg, FutureWarning)\n",
            "/usr/local/lib/python3.8/dist-packages/seaborn/distributions.py:2619: FutureWarning: `distplot` is a deprecated function and will be removed in a future version. Please adapt your code to use either `displot` (a figure-level function with similar flexibility) or `kdeplot` (an axes-level function for kernel density plots).\n",
            "  warnings.warn(msg, FutureWarning)\n"
          ]
        },
        {
          "output_type": "execute_result",
          "data": {
            "text/plain": [
              "<matplotlib.axes._subplots.AxesSubplot at 0x7f5eb9f10e50>"
            ]
          },
          "metadata": {},
          "execution_count": 30
        },
        {
          "output_type": "display_data",
          "data": {
            "text/plain": [
              "<Figure size 432x288 with 1 Axes>"
            ],
            "image/png": "[encoded data removed]"
          },
          "metadata": {
            "needs_background": "light"
          }
        }
      ]
    },
    {
      "cell_type": "markdown",
      "source": [
        "## Regression plots"
      ],
      "metadata": {
        "id": "1_9eozsvaeGw"
      }
    },
    {
      "cell_type": "code",
      "source": [
        "sns.residplot(y_test, y_pred)"
      ],
      "metadata": {
        "colab": {
          "base_uri": "https://localhost:8080/",
          "height": 353
        },
        "id": "NPyIa-WKaahF",
        "outputId": "d9f99cf0-bada-4315-8d74-804c87f7135a"
      },
      "execution_count": null,
      "outputs": [
        {
          "output_type": "stream",
          "name": "stderr",
          "text": [
            "/usr/local/lib/python3.8/dist-packages/seaborn/_decorators.py:36: FutureWarning: Pass the following variables as keyword args: x, y. From version 0.12, the only valid positional argument will be `data`, and passing other arguments without an explicit keyword will result in an error or misinterpretation.\n",
            "  warnings.warn(\n"
          ]
        },
        {
          "output_type": "execute_result",
          "data": {
            "text/plain": [
              "<matplotlib.axes._subplots.AxesSubplot at 0x7f5ebfd956a0>"
            ]
          },
          "metadata": {},
          "execution_count": 31
        },
        {
          "output_type": "display_data",
          "data": {
            "text/plain": [
              "<Figure size 432x288 with 1 Axes>"
            ],
            "image/png": "[encoded data removed]"
          },
          "metadata": {
            "needs_background": "light"
          }
        }
      ]
    },
    {
      "cell_type": "code",
      "source": [],
      "metadata": {
        "id": "MlVQjAVZadGb"
      },
      "execution_count": null,
      "outputs": []
    }
  ]
}